{
  "cells": [
    {
      "cell_type": "code",
      "execution_count": null,
      "id": "cdab00e4",
      "metadata": {
        "id": "cdab00e4"
      },
      "outputs": [],
      "source": [
        "# Stored data: Roller Coaster Table\n",
        "roller_coaster_data = {\n",
        "    \"States\": [\"California\", \"Texas\", \"Florida\", \"Florida\", \"Connecticut\", \"Florida\", \"Florida\"],\n",
        "    \"Coaster Name\": [\"GhostRider\", \"Rattler\", \"Starliner\", \"Kraken\", \"Wildcat\", \"Kumba\", \"Incredible Hulk\"],\n",
        "    \"Max Height(ft)\": [118, 180, 70, 149, 85, 143, 110],\n",
        "    \"Top Speed(mph)\": [56, 65, 55, 65, 48, 60, 66],\n",
        "}\n"
      ]
    },
    {
      "cell_type": "markdown",
      "source": [
        "\n",
        "\n",
        "```\n",
        "# This is formatted as code\n",
        "```\n",
        "\n",
        "Trial version  next phase hello world\n",
        "\n",
        "```\n",
        "`# This is formatted as code`\n",
        "```\n",
        "\n"
      ],
      "metadata": {
        "id": "8mN6O1wPHzc-"
      },
      "id": "8mN6O1wPHzc-"
    },
    {
      "cell_type": "markdown",
      "source": [],
      "metadata": {
        "id": "iFHDaS7IHw4l"
      },
      "id": "iFHDaS7IHw4l"
    },
    {
      "cell_type": "code",
      "execution_count": null,
      "id": "fb3f7063",
      "metadata": {
        "id": "fb3f7063",
        "outputId": "368bfd1c-36fd-4ab6-c564-f911a9560b1f"
      },
      "outputs": [
        {
          "name": "stdout",
          "output_type": "stream",
          "text": [
            "Mean of Max Height(ft): 122.14285714285714\n"
          ]
        }
      ],
      "source": [
        "# Importing necessary library\n",
        "import numpy as np\n",
        "\n",
        "# Task 1: Calculate the mean for \"Max Height(ft)\" and \"Top Speed(mph)\"\n",
        "max_height_mean = np.mean(roller_coaster_data[\"Max Height(ft)\"])\n",
        "# top_speed_mean = np.mean(roller_coaster_data[\"Top Speed(mph)\"])\n",
        "\n",
        "print(\"Mean of Max Height(ft):\", max_height_mean)\n",
        "# print(\"Mean of Top Speed(mph):\", top_speed_mean)\n",
        "\n",
        "\n"
      ]
    },
    {
      "cell_type": "code",
      "execution_count": null,
      "id": "057b8bea",
      "metadata": {
        "id": "057b8bea",
        "outputId": "c07c2d15-8526-4e09-dafa-5ee1bfa65274"
      },
      "outputs": [
        {
          "name": "stdout",
          "output_type": "stream",
          "text": [
            "Variance of Max Height(ft): 1252.4081632653063\n"
          ]
        }
      ],
      "source": [
        "# Task 2: Calculate the variance for \"Max Height(ft)\" and \"Top Speed(mph)\"\n",
        "max_height_variance = np.var(roller_coaster_data[\"Max Height(ft)\"])\n",
        "top_speed_variance = np.var(roller_coaster_data[\"Top Speed(mph)\"])\n",
        "\n",
        "print(\"Variance of Max Height(ft):\", max_height_variance)\n",
        "# print(\"Variance of Top Speed(mph):\", top_speed_variance)"
      ]
    },
    {
      "cell_type": "code",
      "execution_count": null,
      "id": "14aca908",
      "metadata": {
        "id": "14aca908"
      },
      "outputs": [],
      "source": []
    }
  ],
  "metadata": {
    "kernelspec": {
      "display_name": "Python 3 (ipykernel)",
      "language": "python",
      "name": "python3"
    },
    "language_info": {
      "codemirror_mode": {
        "name": "ipython",
        "version": 3
      },
      "file_extension": ".py",
      "mimetype": "text/x-python",
      "name": "python",
      "nbconvert_exporter": "python",
      "pygments_lexer": "ipython3",
      "version": "3.11.4"
    },
    "colab": {
      "provenance": []
    }
  },
  "nbformat": 4,
  "nbformat_minor": 5
}